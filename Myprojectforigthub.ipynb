{
 "cells": [
  {
   "cell_type": "markdown",
   "id": "8a80dfcc",
   "metadata": {},
   "source": [
    "Data Science Tools and Ecosystem"
   ]
  },
  {
   "cell_type": "markdown",
   "id": "527c2cae",
   "metadata": {},
   "source": [
    "In this notebook, Data Science Tools and Ecosystem are summarized."
   ]
  },
  {
   "cell_type": "markdown",
   "id": "ff5be989",
   "metadata": {},
   "source": [
    "**Objectives:**"
   ]
  },
  {
   "cell_type": "markdown",
   "id": "41fe9dd0",
   "metadata": {},
   "source": [
    "unordered list:List popular languages for Data Science, List commonly used libraries used by Data Scientists, List common Data Science tools "
   ]
  },
  {
   "cell_type": "markdown",
   "id": "27582210",
   "metadata": {},
   "source": [
    "Some of the popular languages that Data Scientists use are"
   ]
  },
  {
   "cell_type": "markdown",
   "id": "cfc3482a",
   "metadata": {},
   "source": [
    "ordered list: 1-Pyhton, 2-R, 3-Scala, 4-Java"
   ]
  },
  {
   "cell_type": "markdown",
   "id": "9e473cdf",
   "metadata": {},
   "source": [
    "Some of the commonly used libraries used by Data Scientists include: "
   ]
  },
  {
   "cell_type": "markdown",
   "id": "d2b82618",
   "metadata": {},
   "source": [
    "ordered list: Pandas, Numpy, Matplotlib, TensorFlow, Seaborn, Scikit-learn, Pytorch, Keras"
   ]
  },
  {
   "cell_type": "markdown",
   "id": "ca7e23d0",
   "metadata": {},
   "source": [
    "| Data Science Tools |\n",
    "|--------------------|\n",
    "| Development Environment 1- Jupiter Notebook  |\n",
    "| Development Environment 2- Anaconda          |\n",
    "| Development Environment 3- RStudio           |\n",
    "| Development Environment 4- Apache Zeppelin   |\n",
    "| Development Environment 5- Spyder            |\n",
    "| Development Environment 6- Visual Studio Code|\n",
    "| Development Environment 7- IBM Watson Studio |"
   ]
  },
  {
   "cell_type": "markdown",
   "id": "caa35924",
   "metadata": {},
   "source": [
    "### Below are a few examples of evaluating arithmetic expressions in Python in Jupyter Notebook"
   ]
  },
  {
   "cell_type": "code",
   "execution_count": 3,
   "id": "3a68d9d8",
   "metadata": {},
   "outputs": [
    {
     "data": {
      "text/plain": [
       "17"
      ]
     },
     "execution_count": 3,
     "metadata": {},
     "output_type": "execute_result"
    }
   ],
   "source": [
    "#This a simple arithmetic expression to mutiply then add integers\n",
    "(3*4)+5"
   ]
  },
  {
   "cell_type": "code",
   "execution_count": 4,
   "id": "9d6cc0a5",
   "metadata": {},
   "outputs": [
    {
     "data": {
      "text/plain": [
       "3.3333333333333335"
      ]
     },
     "execution_count": 4,
     "metadata": {},
     "output_type": "execute_result"
    }
   ],
   "source": [
    "#This will convert 200 minutes to hours by diving by 60\n",
    "(200/60)"
   ]
  },
  {
   "cell_type": "markdown",
   "id": "668bbc6c",
   "metadata": {},
   "source": [
    "**Objectives:**"
   ]
  },
  {
   "cell_type": "markdown",
   "id": "4644603c",
   "metadata": {},
   "source": [
    "- Explore common data manipulation and analysis libraries.\n",
    "- Understand basic concepts of machine learning and its applications.\n",
    "- To enter deep learning and AI concepts"
   ]
  },
  {
   "cell_type": "markdown",
   "id": "341e5f32",
   "metadata": {},
   "source": [
    "## Author\n",
    "\n",
    "Umit Kaynar"
   ]
  },
  {
   "cell_type": "code",
   "execution_count": null,
   "id": "45eb42f0",
   "metadata": {},
   "outputs": [],
   "source": []
  }
 ],
 "metadata": {
  "kernelspec": {
   "display_name": "Python 3 (ipykernel)",
   "language": "python",
   "name": "python3"
  },
  "language_info": {
   "codemirror_mode": {
    "name": "ipython",
    "version": 3
   },
   "file_extension": ".py",
   "mimetype": "text/x-python",
   "name": "python",
   "nbconvert_exporter": "python",
   "pygments_lexer": "ipython3",
   "version": "3.10.9"
  }
 },
 "nbformat": 4,
 "nbformat_minor": 5
}
